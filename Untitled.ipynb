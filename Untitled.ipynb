{
 "cells": [
  {
   "cell_type": "code",
   "execution_count": 70,
   "id": "functioning-christian",
   "metadata": {},
   "outputs": [],
   "source": [
    "import pandas as pd\n",
    "import os\n",
    "import numpy as np"
   ]
  },
  {
   "cell_type": "code",
   "execution_count": 71,
   "id": "accepted-father",
   "metadata": {},
   "outputs": [],
   "source": [
    "root_dir = \"./samples/2021_03_23_20_28_39/\"\n",
    "csv_file_name = \"data_sorted.csv\""
   ]
  },
  {
   "cell_type": "code",
   "execution_count": 72,
   "id": "personal-floating",
   "metadata": {},
   "outputs": [],
   "source": [
    "halo_frame = pd.read_csv(os.path.join(root_dir, csv_file_name), header=None)"
   ]
  },
  {
   "cell_type": "code",
   "execution_count": 73,
   "id": "virgin-livestock",
   "metadata": {},
   "outputs": [
    {
     "data": {
      "text/plain": [
       "0        0.002380\n",
       "1       -0.000854\n",
       "2       -0.004669\n",
       "3       -0.010315\n",
       "4       -0.023102\n",
       "           ...   \n",
       "55041    0.039398\n",
       "55042    0.039398\n",
       "55043    0.039398\n",
       "55044    0.039398\n",
       "55045    0.039398\n",
       "Name: 1, Length: 55046, dtype: float64"
      ]
     },
     "execution_count": 73,
     "metadata": {},
     "output_type": "execute_result"
    }
   ],
   "source": [
    "halo_frame.iloc[:, 1]"
   ]
  },
  {
   "cell_type": "code",
   "execution_count": 74,
   "id": "focal-ethnic",
   "metadata": {},
   "outputs": [
    {
     "name": "stdout",
     "output_type": "stream",
     "text": [
      "                                               0         1         2   \\\n",
      "0        samples/2021_03_23_20_28_39/img_455.jpeg  0.002380 -0.073364   \n",
      "1        samples/2021_03_23_20_28_39/img_456.jpeg -0.000854 -0.073364   \n",
      "2        samples/2021_03_23_20_28_39/img_457.jpeg -0.004669 -0.073364   \n",
      "3        samples/2021_03_23_20_28_39/img_458.jpeg -0.010315 -0.068787   \n",
      "4        samples/2021_03_23_20_28_39/img_459.jpeg -0.023102 -0.068787   \n",
      "...                                           ...       ...       ...   \n",
      "55041  samples/2021_03_23_20_28_39/img_55496.jpeg  0.039398  0.040558   \n",
      "55042  samples/2021_03_23_20_28_39/img_55497.jpeg  0.039398  0.040558   \n",
      "55043  samples/2021_03_23_20_28_39/img_55498.jpeg  0.039398  0.040558   \n",
      "55044  samples/2021_03_23_20_28_39/img_55499.jpeg  0.039398  0.040558   \n",
      "55045  samples/2021_03_23_20_28_39/img_55500.jpeg  0.039398  0.040558   \n",
      "\n",
      "             3         4    5    6   7   8   9   ...  12  13  14  15  16  17  \\\n",
      "0      0.038025 -0.007263  0.0  0.0   0   0   0  ...   0   0   0   0   0   0   \n",
      "1      0.038025 -0.007263  0.0  0.0   0   0   0  ...   0   0   0   0   0   0   \n",
      "2      0.038025 -0.008789  0.0  0.0   0   0   0  ...   0   0   0   0   0   0   \n",
      "3      0.038025 -0.013824  0.0  0.0   0   0   0  ...   0   0   0   0   0   0   \n",
      "4      0.045044 -0.020905  0.0  0.0   0   0   0  ...   0   0   0   0   0   0   \n",
      "...         ...       ...  ...  ...  ..  ..  ..  ...  ..  ..  ..  ..  ..  ..   \n",
      "55041 -0.013947  0.051636  0.0  0.0   0   0   0  ...   0   0   0   0   0   0   \n",
      "55042 -0.013947  0.051636  0.0  0.0   0   0   0  ...   0   0   0   0   0   0   \n",
      "55043 -0.013947  0.051636  0.0  0.0   0   0   0  ...   0   0   0   0   0   0   \n",
      "55044 -0.013947  0.051636  0.0  0.0   0   0   0  ...   0   0   0   0   0   0   \n",
      "55045 -0.013947  0.051636  0.0  0.0   0   0   0  ...   0   0   0   0   0   0   \n",
      "\n",
      "       18  19  20            21  \n",
      "0       0   0   0  1.616557e+09  \n",
      "1       0   0   0  1.616557e+09  \n",
      "2       0   0   0  1.616557e+09  \n",
      "3       0   0   0  1.616557e+09  \n",
      "4       0   0   0  1.616557e+09  \n",
      "...    ..  ..  ..           ...  \n",
      "55041   0   0   0  1.616558e+09  \n",
      "55042   0   0   0  1.616558e+09  \n",
      "55043   0   0   0  1.616558e+09  \n",
      "55044   0   0   0  1.616558e+09  \n",
      "55045   0   0   0  1.616558e+09  \n",
      "\n",
      "[55046 rows x 22 columns]              1         2         3         4    5    6   7   8   9   10  11  \\\n",
      "0      0.002380 -0.073364  0.038025 -0.007263  0.0  0.0   0   0   0   0   0   \n",
      "1     -0.000854 -0.073364  0.038025 -0.007263  0.0  0.0   0   0   0   0   0   \n",
      "2     -0.004669 -0.073364  0.038025 -0.008789  0.0  0.0   0   0   0   0   0   \n",
      "3     -0.010315 -0.068787  0.038025 -0.013824  0.0  0.0   0   0   0   0   0   \n",
      "4     -0.023102 -0.068787  0.045044 -0.020905  0.0  0.0   0   0   0   0   0   \n",
      "...         ...       ...       ...       ...  ...  ...  ..  ..  ..  ..  ..   \n",
      "55041  0.039398  0.040558 -0.013947  0.051636  0.0  0.0   0   0   0   0   0   \n",
      "55042  0.039398  0.040558 -0.013947  0.051636  0.0  0.0   0   0   0   0   0   \n",
      "55043  0.039398  0.040558 -0.013947  0.051636  0.0  0.0   0   0   0   0   0   \n",
      "55044  0.039398  0.040558 -0.013947  0.051636  0.0  0.0   0   0   0   0   0   \n",
      "55045  0.039398  0.040558 -0.013947  0.051636  0.0  0.0   0   0   0   0   0   \n",
      "\n",
      "       12  13  14  15  16  17  18  19  20  \n",
      "0       0   0   0   0   0   0   0   0   0  \n",
      "1       0   0   0   0   0   0   0   0   0  \n",
      "2       0   0   0   0   0   0   0   0   0  \n",
      "3       0   0   0   0   0   0   0   0   0  \n",
      "4       0   0   0   0   0   0   0   0   0  \n",
      "...    ..  ..  ..  ..  ..  ..  ..  ..  ..  \n",
      "55041   0   0   0   0   0   0   0   0   0  \n",
      "55042   0   0   0   0   0   0   0   0   0  \n",
      "55043   0   0   0   0   0   0   0   0   0  \n",
      "55044   0   0   0   0   0   0   0   0   0  \n",
      "55045   0   0   0   0   0   0   0   0   0  \n",
      "\n",
      "[55046 rows x 20 columns]\n",
      "                                               0         1         2   \\\n",
      "0        samples/2021_03_23_20_28_39/img_455.jpeg -0.000854 -0.073364   \n",
      "1        samples/2021_03_23_20_28_39/img_456.jpeg -0.004669 -0.073364   \n",
      "2        samples/2021_03_23_20_28_39/img_457.jpeg -0.010315 -0.068787   \n",
      "3        samples/2021_03_23_20_28_39/img_458.jpeg -0.023102 -0.068787   \n",
      "4        samples/2021_03_23_20_28_39/img_459.jpeg -0.048126 -0.107758   \n",
      "...                                           ...       ...       ...   \n",
      "55041  samples/2021_03_23_20_28_39/img_55496.jpeg  0.039398  0.040558   \n",
      "55042  samples/2021_03_23_20_28_39/img_55497.jpeg  0.039398  0.040558   \n",
      "55043  samples/2021_03_23_20_28_39/img_55498.jpeg  0.039398  0.040558   \n",
      "55044  samples/2021_03_23_20_28_39/img_55499.jpeg  0.039398  0.040558   \n",
      "55045  samples/2021_03_23_20_28_39/img_55500.jpeg       NaN       NaN   \n",
      "\n",
      "             3         4    5    6    7    8    9   ...   12   13   14   15  \\\n",
      "0      0.038025 -0.007263  0.0  0.0  0.0  0.0  0.0  ...  0.0  0.0  0.0  0.0   \n",
      "1      0.038025 -0.008789  0.0  0.0  0.0  0.0  0.0  ...  0.0  0.0  0.0  0.0   \n",
      "2      0.038025 -0.013824  0.0  0.0  0.0  0.0  0.0  ...  0.0  0.0  0.0  0.0   \n",
      "3      0.045044 -0.020905  0.0  0.0  0.0  0.0  0.0  ...  0.0  0.0  0.0  0.0   \n",
      "4      0.065674 -0.021790  0.0  0.0  0.0  0.0  0.0  ...  0.0  0.0  0.0  0.0   \n",
      "...         ...       ...  ...  ...  ...  ...  ...  ...  ...  ...  ...  ...   \n",
      "55041 -0.013947  0.051636  0.0  0.0  0.0  0.0  0.0  ...  0.0  0.0  0.0  0.0   \n",
      "55042 -0.013947  0.051636  0.0  0.0  0.0  0.0  0.0  ...  0.0  0.0  0.0  0.0   \n",
      "55043 -0.013947  0.051636  0.0  0.0  0.0  0.0  0.0  ...  0.0  0.0  0.0  0.0   \n",
      "55044 -0.013947  0.051636  0.0  0.0  0.0  0.0  0.0  ...  0.0  0.0  0.0  0.0   \n",
      "55045       NaN       NaN  NaN  NaN  NaN  NaN  NaN  ...  NaN  NaN  NaN  NaN   \n",
      "\n",
      "        16   17   18   19   20            21  \n",
      "0      0.0  0.0  0.0  0.0  0.0  1.616557e+09  \n",
      "1      0.0  0.0  0.0  0.0  0.0  1.616557e+09  \n",
      "2      0.0  0.0  0.0  0.0  0.0  1.616557e+09  \n",
      "3      0.0  0.0  0.0  0.0  0.0  1.616557e+09  \n",
      "4      0.0  0.0  0.0  0.0  0.0  1.616557e+09  \n",
      "...    ...  ...  ...  ...  ...           ...  \n",
      "55041  0.0  0.0  0.0  0.0  0.0  1.616558e+09  \n",
      "55042  0.0  0.0  0.0  0.0  0.0  1.616558e+09  \n",
      "55043  0.0  0.0  0.0  0.0  0.0  1.616558e+09  \n",
      "55044  0.0  0.0  0.0  0.0  0.0  1.616558e+09  \n",
      "55045  NaN  NaN  NaN  NaN  NaN  1.616558e+09  \n",
      "\n",
      "[55046 rows x 22 columns]              1         2         3         4    5    6   7   8   9   10  11  \\\n",
      "0      0.002380 -0.073364  0.038025 -0.007263  0.0  0.0   0   0   0   0   0   \n",
      "1     -0.000854 -0.073364  0.038025 -0.007263  0.0  0.0   0   0   0   0   0   \n",
      "2     -0.004669 -0.073364  0.038025 -0.008789  0.0  0.0   0   0   0   0   0   \n",
      "3     -0.010315 -0.068787  0.038025 -0.013824  0.0  0.0   0   0   0   0   0   \n",
      "4     -0.023102 -0.068787  0.045044 -0.020905  0.0  0.0   0   0   0   0   0   \n",
      "...         ...       ...       ...       ...  ...  ...  ..  ..  ..  ..  ..   \n",
      "55041  0.039398  0.040558 -0.013947  0.051636  0.0  0.0   0   0   0   0   0   \n",
      "55042  0.039398  0.040558 -0.013947  0.051636  0.0  0.0   0   0   0   0   0   \n",
      "55043  0.039398  0.040558 -0.013947  0.051636  0.0  0.0   0   0   0   0   0   \n",
      "55044  0.039398  0.040558 -0.013947  0.051636  0.0  0.0   0   0   0   0   0   \n",
      "55045  0.039398  0.040558 -0.013947  0.051636  0.0  0.0   0   0   0   0   0   \n",
      "\n",
      "       12  13  14  15  16  17  18  19  20  \n",
      "0       0   0   0   0   0   0   0   0   0  \n",
      "1       0   0   0   0   0   0   0   0   0  \n",
      "2       0   0   0   0   0   0   0   0   0  \n",
      "3       0   0   0   0   0   0   0   0   0  \n",
      "4       0   0   0   0   0   0   0   0   0  \n",
      "...    ..  ..  ..  ..  ..  ..  ..  ..  ..  \n",
      "55041   0   0   0   0   0   0   0   0   0  \n",
      "55042   0   0   0   0   0   0   0   0   0  \n",
      "55043   0   0   0   0   0   0   0   0   0  \n",
      "55044   0   0   0   0   0   0   0   0   0  \n",
      "55045   0   0   0   0   0   0   0   0   0  \n",
      "\n",
      "[55046 rows x 20 columns]\n",
      "                                               0         1         2   \\\n",
      "0        samples/2021_03_23_20_28_39/img_455.jpeg -0.000854 -0.073364   \n",
      "1        samples/2021_03_23_20_28_39/img_456.jpeg -0.004669 -0.073364   \n",
      "2        samples/2021_03_23_20_28_39/img_457.jpeg -0.010315 -0.068787   \n",
      "3        samples/2021_03_23_20_28_39/img_458.jpeg -0.023102 -0.068787   \n",
      "4        samples/2021_03_23_20_28_39/img_459.jpeg -0.048126 -0.107758   \n",
      "...                                           ...       ...       ...   \n",
      "55041  samples/2021_03_23_20_28_39/img_55496.jpeg  0.039398  0.040558   \n",
      "55042  samples/2021_03_23_20_28_39/img_55497.jpeg  0.039398  0.040558   \n",
      "55043  samples/2021_03_23_20_28_39/img_55498.jpeg  0.039398  0.040558   \n",
      "55044  samples/2021_03_23_20_28_39/img_55499.jpeg  0.039398  0.040558   \n",
      "55045  samples/2021_03_23_20_28_39/img_55500.jpeg       NaN       NaN   \n",
      "\n",
      "             3         4    5    6    7    8    9   ...   12   13   14   15  \\\n",
      "0      0.038025 -0.007263  0.0  0.0  0.0  0.0  0.0  ...  0.0  0.0  0.0  0.0   \n",
      "1      0.038025 -0.008789  0.0  0.0  0.0  0.0  0.0  ...  0.0  0.0  0.0  0.0   \n",
      "2      0.038025 -0.013824  0.0  0.0  0.0  0.0  0.0  ...  0.0  0.0  0.0  0.0   \n",
      "3      0.045044 -0.020905  0.0  0.0  0.0  0.0  0.0  ...  0.0  0.0  0.0  0.0   \n",
      "4      0.065674 -0.021790  0.0  0.0  0.0  0.0  0.0  ...  0.0  0.0  0.0  0.0   \n",
      "...         ...       ...  ...  ...  ...  ...  ...  ...  ...  ...  ...  ...   \n",
      "55041 -0.013947  0.051636  0.0  0.0  0.0  0.0  0.0  ...  0.0  0.0  0.0  0.0   \n",
      "55042 -0.013947  0.051636  0.0  0.0  0.0  0.0  0.0  ...  0.0  0.0  0.0  0.0   \n",
      "55043 -0.013947  0.051636  0.0  0.0  0.0  0.0  0.0  ...  0.0  0.0  0.0  0.0   \n",
      "55044 -0.013947  0.051636  0.0  0.0  0.0  0.0  0.0  ...  0.0  0.0  0.0  0.0   \n",
      "55045       NaN       NaN  NaN  NaN  NaN  NaN  NaN  ...  NaN  NaN  NaN  NaN   \n",
      "\n",
      "        16   17   18   19   20            21  \n",
      "0      0.0  0.0  0.0  0.0  0.0  1.616557e+09  \n",
      "1      0.0  0.0  0.0  0.0  0.0  1.616557e+09  \n",
      "2      0.0  0.0  0.0  0.0  0.0  1.616557e+09  \n",
      "3      0.0  0.0  0.0  0.0  0.0  1.616557e+09  \n",
      "4      0.0  0.0  0.0  0.0  0.0  1.616557e+09  \n",
      "...    ...  ...  ...  ...  ...           ...  \n",
      "55041  0.0  0.0  0.0  0.0  0.0  1.616558e+09  \n",
      "55042  0.0  0.0  0.0  0.0  0.0  1.616558e+09  \n",
      "55043  0.0  0.0  0.0  0.0  0.0  1.616558e+09  \n",
      "55044  0.0  0.0  0.0  0.0  0.0  1.616558e+09  \n",
      "55045  NaN  NaN  NaN  NaN  NaN  1.616558e+09  \n",
      "\n",
      "[55046 rows x 22 columns]              1         2         3         4    5    6   7   8   9   10  11  \\\n",
      "0      0.002380 -0.073364  0.038025 -0.007263  0.0  0.0   0   0   0   0   0   \n",
      "1     -0.000854 -0.073364  0.038025 -0.007263  0.0  0.0   0   0   0   0   0   \n",
      "2     -0.004669 -0.073364  0.038025 -0.008789  0.0  0.0   0   0   0   0   0   \n",
      "3     -0.010315 -0.068787  0.038025 -0.013824  0.0  0.0   0   0   0   0   0   \n",
      "4     -0.023102 -0.068787  0.045044 -0.020905  0.0  0.0   0   0   0   0   0   \n",
      "...         ...       ...       ...       ...  ...  ...  ..  ..  ..  ..  ..   \n",
      "55041  0.039398  0.040558 -0.013947  0.051636  0.0  0.0   0   0   0   0   0   \n",
      "55042  0.039398  0.040558 -0.013947  0.051636  0.0  0.0   0   0   0   0   0   \n",
      "55043  0.039398  0.040558 -0.013947  0.051636  0.0  0.0   0   0   0   0   0   \n",
      "55044  0.039398  0.040558 -0.013947  0.051636  0.0  0.0   0   0   0   0   0   \n",
      "55045  0.039398  0.040558 -0.013947  0.051636  0.0  0.0   0   0   0   0   0   \n",
      "\n",
      "       12  13  14  15  16  17  18  19  20  \n",
      "0       0   0   0   0   0   0   0   0   0  \n",
      "1       0   0   0   0   0   0   0   0   0  \n",
      "2       0   0   0   0   0   0   0   0   0  \n",
      "3       0   0   0   0   0   0   0   0   0  \n",
      "4       0   0   0   0   0   0   0   0   0  \n",
      "...    ..  ..  ..  ..  ..  ..  ..  ..  ..  \n",
      "55041   0   0   0   0   0   0   0   0   0  \n",
      "55042   0   0   0   0   0   0   0   0   0  \n",
      "55043   0   0   0   0   0   0   0   0   0  \n",
      "55044   0   0   0   0   0   0   0   0   0  \n",
      "55045   0   0   0   0   0   0   0   0   0  \n",
      "\n",
      "[55046 rows x 20 columns]\n"
     ]
    }
   ],
   "source": [
    "cols = halo_frame.columns\n",
    "# Assign current action\n",
    "current_controller_state = halo_frame[cols[1:21]]\n",
    "print(halo_frame, current_controller_state)\n",
    "\n",
    "# shift actions by 1\n",
    "halo_frame[cols[1:21]] = halo_frame[cols[1:21]].shift(-1)\n",
    "print(halo_frame, current_controller_state)\n",
    "# normalize sticks to 0 - 1\n",
    "#self.halo_frame[cols[1:5]] = ((self.halo_frame[cols[1:5]] + 1) / 2.0).clip(0, 1)\n",
    "\n",
    "# round triggers to nearest integer\n",
    "halo_frame[cols[5:7]] = halo_frame[cols[5:7]].round(0)\n",
    "print(halo_frame, current_controller_state)"
   ]
  },
  {
   "cell_type": "code",
   "execution_count": 79,
   "id": "faced-diabetes",
   "metadata": {},
   "outputs": [
    {
     "name": "stdout",
     "output_type": "stream",
     "text": [
      "-1.0\n"
     ]
    }
   ],
   "source": [
    "print(halo_frame[cols[1]].min())"
   ]
  },
  {
   "cell_type": "code",
   "execution_count": 22,
   "id": "legislative-exclusion",
   "metadata": {},
   "outputs": [
    {
     "data": {
      "image/png": "[encoded data removed]",
      "text/plain": [
       "<Figure size 432x288 with 4 Axes>"
      ]
     },
     "metadata": {
      "needs_background": "light"
     },
     "output_type": "display_data"
    }
   ],
   "source": [
    "hist = halo_frame[range(1,5)].hist(bins=7)"
   ]
  },
  {
   "cell_type": "code",
   "execution_count": 23,
   "id": "included-entertainment",
   "metadata": {},
   "outputs": [],
   "source": [
    "left_stick_lr = halo_frame[1]"
   ]
  },
  {
   "cell_type": "code",
   "execution_count": 24,
   "id": "postal-paper",
   "metadata": {},
   "outputs": [],
   "source": [
    "left_stick_lr_shifted = left_stick_lr.shift(-1)"
   ]
  },
  {
   "cell_type": "code",
   "execution_count": 29,
   "id": "fleet-presentation",
   "metadata": {},
   "outputs": [
    {
     "name": "stdout",
     "output_type": "stream",
     "text": [
      "0        0.002380\n",
      "1       -0.000854\n",
      "2       -0.004669\n",
      "3       -0.010315\n",
      "4       -0.023102\n",
      "           ...   \n",
      "55040    0.039398\n",
      "55041    0.039398\n",
      "55042    0.039398\n",
      "55043    0.039398\n",
      "55044    0.039398\n",
      "Name: 1, Length: 55045, dtype: float64\n",
      "0       -0.000854\n",
      "1       -0.004669\n",
      "2       -0.010315\n",
      "3       -0.023102\n",
      "4       -0.048126\n",
      "           ...   \n",
      "55040    0.039398\n",
      "55041    0.039398\n",
      "55042    0.039398\n",
      "55043    0.039398\n",
      "55044    0.039398\n",
      "Name: 1, Length: 55045, dtype: float64\n",
      "0       -0.003235\n",
      "1       -0.003815\n",
      "2       -0.005646\n",
      "3       -0.012787\n",
      "4       -0.025024\n",
      "           ...   \n",
      "55040    0.000000\n",
      "55041    0.000000\n",
      "55042    0.000000\n",
      "55043    0.000000\n",
      "55044    0.000000\n",
      "Name: 1, Length: 55045, dtype: float64\n"
     ]
    }
   ],
   "source": [
    "print(left_stick_lr[:-1])\n",
    "print(left_stick_lr_shifted[:-1])\n",
    "left_stick_lr_delta = (left_stick_lr_shifted - left_stick_lr)[:-1]\n",
    "print(left_stick_lr_delta)"
   ]
  },
  {
   "cell_type": "code",
   "execution_count": 65,
   "id": "special-newsletter",
   "metadata": {},
   "outputs": [
    {
     "name": "stdout",
     "output_type": "stream",
     "text": [
      "-1.394256591796875 1.976318359375 6.725010857593787e-07 0.009975400751091228\n"
     ]
    },
    {
     "data": {
      "image/png": "[encoded data removed]",
      "text/plain": [
       "<Figure size 432x288 with 1 Axes>"
      ]
     },
     "metadata": {
      "needs_background": "light"
     },
     "output_type": "display_data"
    }
   ],
   "source": [
    "hist = left_stick_lr_delta.hist()\n",
    "print(min(left_stick_lr_delta), max(left_stick_lr_delta), left_stick_lr_delta.mean(), left_stick_lr_delta.var())"
   ]
  },
  {
   "cell_type": "code",
   "execution_count": 66,
   "id": "silver-dressing",
   "metadata": {},
   "outputs": [
    {
     "name": "stdout",
     "output_type": "stream",
     "text": [
      "0        0.412696\n",
      "1        0.412524\n",
      "2        0.411980\n",
      "3        0.409862\n",
      "4        0.406231\n",
      "           ...   \n",
      "55040    0.413655\n",
      "55041    0.413655\n",
      "55042    0.413655\n",
      "55043    0.413655\n",
      "55044    0.413655\n",
      "Name: 1, Length: 55045, dtype: float64 0.0 1.0 0.4136556179571784 0.0008780563219302556\n"
     ]
    }
   ],
   "source": [
    "min_delta = min(left_stick_lr_delta)\n",
    "max_delta = max(left_stick_lr_delta)\n",
    "normalized_lr = (left_stick_lr_delta + abs(min_delta)) / (max_delta - min_delta)\n",
    "print(normalized_lr, min(normalized_lr), max(normalized_lr), normalized_lr.mean(), normalized_lr.var())"
   ]
  },
  {
   "cell_type": "code",
   "execution_count": 69,
   "id": "funny-generic",
   "metadata": {},
   "outputs": [
    {
     "name": "stdout",
     "output_type": "stream",
     "text": [
      "10.012322363186406\n",
      "6.725010857593787e-06 0.9975400751086714\n"
     ]
    },
    {
     "data": {
      "image/png": "[encoded data removed]",
      "text/plain": [
       "<Figure size 432x288 with 1 Axes>"
      ]
     },
     "metadata": {
      "needs_background": "light"
     },
     "output_type": "display_data"
    }
   ],
   "source": [
    "print(1 / np.sqrt(left_stick_lr_delta.var()))\n",
    "normalized_lr = left_stick_lr_delta * 10\n",
    "hist = normalized_lr.hist()\n",
    "print(normalized_lr.mean(), normalized_lr.var())"
   ]
  },
  {
   "cell_type": "code",
   "execution_count": 64,
   "id": "gothic-turkish",
   "metadata": {},
   "outputs": [
    {
     "data": {
      "image/png": "[encoded data removed]",
      "text/plain": [
       "<Figure size 432x288 with 1 Axes>"
      ]
     },
     "metadata": {
      "needs_background": "light"
     },
     "output_type": "display_data"
    }
   ],
   "source": [
    "sample = left_stick_lr_delta.sample(n=50).hist(bins=100)"
   ]
  },
  {
   "cell_type": "code",
   "execution_count": 140,
   "id": "interesting-catch",
   "metadata": {},
   "outputs": [
    {
     "data": {
      "image/png": "[encoded data removed]",
      "text/plain": [
       "<Figure size 432x288 with 1 Axes>"
      ]
     },
     "metadata": {
      "needs_background": "light"
     },
     "output_type": "display_data"
    }
   ],
   "source": [
    "normalized = halo_frame[range(1,2)]\n",
    "hist = normalized.hist()"
   ]
  },
  {
   "cell_type": "code",
   "execution_count": null,
   "id": "hearing-parts",
   "metadata": {},
   "outputs": [],
   "source": []
  },
  {
   "cell_type": "code",
   "execution_count": 141,
   "id": "understood-dubai",
   "metadata": {},
   "outputs": [
    {
     "name": "stdout",
     "output_type": "stream",
     "text": [
      "[2, 2, 2, 2, 2, ..., 2, 2, 2, 2, 2]\n",
      "Length: 55046\n",
      "Categories (5, int64): [0 < 1 < 2 < 3 < 4]\n"
     ]
    },
    {
     "data": {
      "image/png": "[encoded data removed]",
      "text/plain": [
       "<Figure size 432x288 with 1 Axes>"
      ]
     },
     "metadata": {
      "needs_background": "light"
     },
     "output_type": "display_data"
    },
    {
     "data": {
      "image/png": "[encoded data removed]",
      "text/plain": [
       "<Figure size 432x288 with 1 Axes>"
      ]
     },
     "metadata": {
      "needs_background": "light"
     },
     "output_type": "display_data"
    }
   ],
   "source": [
    "#bins = pd.IntervalIndex.from_tuples([(-1.1, -.75), (-.75, -.25), (-.25, .25), (.25, .75), (.75, 1.1)])\n",
    "bins = [-1.1, -0.75, -0.25, 0.25, 0.75, 1.1]\n",
    "binned_LStick_LR = pd.cut(normalized.values.flatten(), bins, labels=[0,1,2,3,4])\n",
    "print(binned_LStick_LR)\n",
    "binned_LStick_LR.value_counts().plot(kind='bar')\n",
    "\n",
    "transformed_stick_values = np.add(np.multiply(binned_LStick_LR.codes, 0.5), -1)\n",
    "df = pd.DataFrame(transformed_stick_values)\n",
    "hist = df.hist(bins = 10)"
   ]
  },
  {
   "cell_type": "code",
   "execution_count": 149,
   "id": "cognitive-jackson",
   "metadata": {},
   "outputs": [
    {
     "name": "stdout",
     "output_type": "stream",
     "text": [
      "       1\n",
      "0      2\n",
      "1      2\n",
      "2      2\n",
      "3      2\n",
      "4      2\n",
      "...   ..\n",
      "55041  2\n",
      "55042  2\n",
      "55043  2\n",
      "55044  2\n",
      "55045  2\n",
      "\n",
      "[55046 rows x 1 columns]\n"
     ]
    }
   ],
   "source": [
    "for i in range(1,5):\n",
    "    halo_frame[[i]] = pd.cut(halo_frame[[i]].values.flatten(), bins, labels=[0,1,2,3,4]).codes\n",
    "    \n",
    "print(halo_frame[[1]])"
   ]
  },
  {
   "cell_type": "code",
   "execution_count": 151,
   "id": "formed-soldier",
   "metadata": {},
   "outputs": [
    {
     "data": {
      "image/png": "[encoded data removed]",
      "text/plain": [
       "<Figure size 432x288 with 1 Axes>"
      ]
     },
     "metadata": {
      "needs_background": "light"
     },
     "output_type": "display_data"
    },
    {
     "data": {
      "image/png": "[encoded data removed]",
      "text/plain": [
       "<Figure size 432x288 with 1 Axes>"
      ]
     },
     "metadata": {
      "needs_background": "light"
     },
     "output_type": "display_data"
    },
    {
     "data": {
      "image/png": "[encoded data removed]",
      "text/plain": [
       "<Figure size 432x288 with 1 Axes>"
      ]
     },
     "metadata": {
      "needs_background": "light"
     },
     "output_type": "display_data"
    },
    {
     "data": {
      "image/png": "[encoded data removed]",
      "text/plain": [
       "<Figure size 432x288 with 1 Axes>"
      ]
     },
     "metadata": {
      "needs_background": "light"
     },
     "output_type": "display_data"
    }
   ],
   "source": [
    "hist = halo_frame[[1]].hist()\n",
    "hist = halo_frame[[2]].hist()\n",
    "hist = halo_frame[[3]].hist()\n",
    "hist = halo_frame[[4]].hist()"
   ]
  },
  {
   "cell_type": "code",
   "execution_count": 35,
   "id": "artistic-olive",
   "metadata": {},
   "outputs": [
    {
     "data": {
      "image/png": "[encoded data removed]",
      "text/plain": [
       "<Figure size 432x288 with 2 Axes>"
      ]
     },
     "metadata": {
      "needs_background": "light"
     },
     "output_type": "display_data"
    }
   ],
   "source": [
    "hist_triggers = halo_frame[range(5,7)].hist(bins=2)"
   ]
  },
  {
   "cell_type": "code",
   "execution_count": 36,
   "id": "important-circus",
   "metadata": {},
   "outputs": [
    {
     "data": {
      "image/png": "[encoded data removed]",
      "text/plain": [
       "<Figure size 432x288 with 2 Axes>"
      ]
     },
     "metadata": {
      "needs_background": "light"
     },
     "output_type": "display_data"
    }
   ],
   "source": [
    "hist_bumpers = halo_frame[range(7,9)].hist(bins=2)"
   ]
  },
  {
   "cell_type": "code",
   "execution_count": 21,
   "id": "confident-building",
   "metadata": {},
   "outputs": [
    {
     "data": {
      "image/png": "[encoded data removed]",
      "text/plain": [
       "<Figure size 432x288 with 4 Axes>"
      ]
     },
     "metadata": {
      "needs_background": "light"
     },
     "output_type": "display_data"
    }
   ],
   "source": [
    "hist_buttons = halo_frame[range(9, 13)].hist(bins=2)"
   ]
  },
  {
   "cell_type": "code",
   "execution_count": 37,
   "id": "encouraging-grounds",
   "metadata": {},
   "outputs": [
    {
     "data": {
      "image/png": "[encoded data removed]",
      "text/plain": [
       "<Figure size 432x288 with 2 Axes>"
      ]
     },
     "metadata": {
      "needs_background": "light"
     },
     "output_type": "display_data"
    }
   ],
   "source": [
    "hist_stick_buttons = halo_frame[range(13,15)].hist(bins=2)"
   ]
  },
  {
   "cell_type": "code",
   "execution_count": 38,
   "id": "biblical-myanmar",
   "metadata": {},
   "outputs": [
    {
     "data": {
      "image/png": "[encoded data removed]",
      "text/plain": [
       "<Figure size 432x288 with 2 Axes>"
      ]
     },
     "metadata": {
      "needs_background": "light"
     },
     "output_type": "display_data"
    }
   ],
   "source": [
    "hist_back_start = halo_frame[range(15,17)].hist(bins=2)"
   ]
  },
  {
   "cell_type": "code",
   "execution_count": 39,
   "id": "encouraging-rebate",
   "metadata": {},
   "outputs": [
    {
     "data": {
      "image/png": "[encoded data removed]",
      "text/plain": [
       "<Figure size 432x288 with 4 Axes>"
      ]
     },
     "metadata": {
      "needs_background": "light"
     },
     "output_type": "display_data"
    }
   ],
   "source": [
    "hist_dpad = halo_frame[range(17,21)].hist(bins=2)"
   ]
  },
  {
   "cell_type": "code",
   "execution_count": null,
   "id": "western-mitchell",
   "metadata": {},
   "outputs": [],
   "source": []
  }
 ],
 "metadata": {
  "kernelspec": {
   "display_name": "Python 3",
   "language": "python",
   "name": "python3"
  },
  "language_info": {
   "codemirror_mode": {
    "name": "ipython",
    "version": 3
   },
   "file_extension": ".py",
   "mimetype": "text/x-python",
   "name": "python",
   "nbconvert_exporter": "python",
   "pygments_lexer": "ipython3",
   "version": "3.7.10"
  }
 },
 "nbformat": 4,
 "nbformat_minor": 5
}
